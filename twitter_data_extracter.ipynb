{
  "nbformat": 4,
  "nbformat_minor": 0,
  "metadata": {
    "colab": {
      "provenance": []
    },
    "kernelspec": {
      "name": "python3",
      "display_name": "Python 3"
    },
    "language_info": {
      "name": "python"
    }
  },
  "cells": [
    {
      "cell_type": "markdown",
      "source": [
        "**below code is to download the twitter data**"
      ],
      "metadata": {
        "id": "JLM1bbvgoDln"
      }
    },
    {
      "cell_type": "code",
      "source": [
        "import snscrape.modules.twitter as sntwitter\n",
        "import pandas as pd\n",
        "\n",
        "query=\"AgneepathRecruitmentScheme\"\n",
        "tweets=[]\n",
        "limits = 20000\n",
        "for tweet in sntwitter.TwitterHashtagScraper(query).get_items():\n",
        "\n",
        "\n",
        "    if len(tweets) == limits:\n",
        "        break\n",
        "    else:\n",
        "        tweets.append([tweet.content])\n",
        "df = pd.DataFrame(tweets, columns=['Tweet'])\n",
        "# determining the name of the file\n",
        "\n",
        "  \n",
        "datatoexcel = pd.ExcelWriter('agnipath3.xlsx')\n",
        "  \n",
        "# write DataFrame to excel\n",
        "df.to_excel(datatoexcel)\n",
        "  \n",
        "# save the excel\n",
        "datatoexcel.save()\n",
        "print('DataFrame is written to Excel File successfully.')"
      ],
      "metadata": {
        "id": "1_VAjj_LoBVq"
      },
      "execution_count": null,
      "outputs": []
    }
  ]
}