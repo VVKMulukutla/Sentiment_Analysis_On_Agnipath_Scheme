{
  "nbformat": 4,
  "nbformat_minor": 0,
  "metadata": {
    "colab": {
      "provenance": []
    },
    "kernelspec": {
      "name": "python3",
      "display_name": "Python 3"
    },
    "language_info": {
      "name": "python"
    }
  },
  "cells": [
    {
      "cell_type": "markdown",
      "source": [
        "**below code used to install VaderSentiment module**"
      ],
      "metadata": {
        "id": "o3xgGlpxkocR"
      }
    },
    {
      "cell_type": "code",
      "execution_count": null,
      "metadata": {
        "colab": {
          "base_uri": "https://localhost:8080/"
        },
        "id": "KIZcs-ox9qPy",
        "outputId": "c5cf04bd-0de5-45f1-da3e-aa8bb7c32afb"
      },
      "outputs": [
        {
          "output_type": "stream",
          "name": "stdout",
          "text": [
            "Looking in indexes: https://pypi.org/simple, https://us-python.pkg.dev/colab-wheels/public/simple/\n",
            "Requirement already satisfied: vaderSentiment in /usr/local/lib/python3.8/dist-packages (3.3.2)\n",
            "Requirement already satisfied: requests in /usr/local/lib/python3.8/dist-packages (from vaderSentiment) (2.23.0)\n",
            "Requirement already satisfied: chardet<4,>=3.0.2 in /usr/local/lib/python3.8/dist-packages (from requests->vaderSentiment) (3.0.4)\n",
            "Requirement already satisfied: urllib3!=1.25.0,!=1.25.1,<1.26,>=1.21.1 in /usr/local/lib/python3.8/dist-packages (from requests->vaderSentiment) (1.24.3)\n",
            "Requirement already satisfied: certifi>=2017.4.17 in /usr/local/lib/python3.8/dist-packages (from requests->vaderSentiment) (2022.9.24)\n",
            "Requirement already satisfied: idna<3,>=2.5 in /usr/local/lib/python3.8/dist-packages (from requests->vaderSentiment) (2.10)\n"
          ]
        }
      ],
      "source": [
        "pip install vaderSentiment"
      ]
    },
    {
      "cell_type": "code",
      "source": [
        "import pandas as pd\n",
        "from vaderSentiment.vaderSentiment import SentimentIntensityAnalyzer\n",
        "obj = SentimentIntensityAnalyzer()"
      ],
      "metadata": {
        "id": "U_6XjJ1M92Fq"
      },
      "execution_count": null,
      "outputs": []
    },
    {
      "cell_type": "code",
      "source": [
        "from google.colab import drive\n",
        "drive.mount('/content/drive')"
      ],
      "metadata": {
        "id": "vh2mKdZACqTg",
        "outputId": "64cfe8dd-a397-4520-ee22-c85c01907d68",
        "colab": {
          "base_uri": "https://localhost:8080/"
        }
      },
      "execution_count": null,
      "outputs": [
        {
          "output_type": "stream",
          "name": "stdout",
          "text": [
            "Drive already mounted at /content/drive; to attempt to forcibly remount, call drive.mount(\"/content/drive\", force_remount=True).\n"
          ]
        }
      ]
    },
    {
      "cell_type": "code",
      "source": [
        "data = pd.read_csv('/content/drive/MyDrive/TCD - TCD.csv')"
      ],
      "metadata": {
        "id": "d1IVbOPD-Q1O"
      },
      "execution_count": null,
      "outputs": []
    },
    {
      "cell_type": "markdown",
      "source": [
        "**below code is to select specified column**"
      ],
      "metadata": {
        "id": "I_fRo0P_kz44"
      }
    },
    {
      "cell_type": "code",
      "source": [
        "data = data[\"Opinion\"]"
      ],
      "metadata": {
        "id": "xLYVAmIz-hhN"
      },
      "execution_count": null,
      "outputs": []
    },
    {
      "cell_type": "code",
      "source": [
        "data.head()"
      ],
      "metadata": {
        "colab": {
          "base_uri": "https://localhost:8080/"
        },
        "id": "yA-uqzsm-mML",
        "outputId": "d271ffd9-baf7-40d8-e489-b0b0914ba750"
      },
      "execution_count": null,
      "outputs": [
        {
          "output_type": "execute_result",
          "data": {
            "text/plain": [
              "0    Anxiety about social consequences; Appeal to p...\n",
              "1    Recruitment of Gorkha soldiers will continue u...\n",
              "2    All petitions related to Agneepath Recruitment...\n",
              "3    Rajnath Singh - Agneepath: Rajnath Singh will ...\n",
              "4    Positional Buy cmp 16.80. 12.80% up so far. st...\n",
              "Name: Opinion, dtype: object"
            ]
          },
          "metadata": {},
          "execution_count": 135
        }
      ]
    },
    {
      "cell_type": "markdown",
      "source": [
        "**below code is to analise the pros and cons of data**"
      ],
      "metadata": {
        "id": "VNz3elX3k9Fp"
      }
    },
    {
      "cell_type": "code",
      "source": [
        "\n",
        "neutral=0\n",
        "negative=0\n",
        "positive=0\n",
        "for i in range(len(data)):\n",
        "  try:\n",
        "    \n",
        "    sentence = data[i]\n",
        "    if \"Justice\" or \"justice\" or \"against\" or \"protest\" not in sentence:\n",
        "     \n",
        "      sentiment_dict = obj.polarity_scores(sentence)\n",
        "    \n",
        "    \n",
        "      if(sentiment_dict['compound']>0.5):\n",
        "        positive+=1\n",
        "        \n",
        "      elif(sentiment_dict['compound']<0):\n",
        "        negative+=1\n",
        "      else:\n",
        "        neutral+=1\n",
        "    else:\n",
        "      negative+=1\n",
        "  except:\n",
        "        pass\n",
        "print(\"positive :\",positive,\" neutral : \",neutral,\" negative : \",negative)\n",
        "  \n",
        "      \n",
        "\n",
        "  \n",
        "  "
      ],
      "metadata": {
        "colab": {
          "base_uri": "https://localhost:8080/"
        },
        "id": "B_sB6hIL-rTV",
        "outputId": "a33797e6-dd35-4a38-dd5a-1bc9727ae13b"
      },
      "execution_count": null,
      "outputs": [
        {
          "output_type": "stream",
          "name": "stdout",
          "text": [
            "positive : 11566  neutral :  54141  negative :  18822\n"
          ]
        }
      ]
    },
    {
      "cell_type": "markdown",
      "source": [
        "**below code is to create a dataframe for visualization**"
      ],
      "metadata": {
        "id": "Rpv4fW7XlOey"
      }
    },
    {
      "cell_type": "code",
      "source": [
        "import  seaborn as sns\n",
        "import matplotlib.pyplot as plt\n",
        "data=pd.DataFrame({\n",
        "    \"type_of_comment\":[\"positive\",\"negative\",\"neutral\"],\n",
        "    \"votes\":[positive,negative,neutral]\n",
        "})\n",
        "\n",
        "data"
      ],
      "metadata": {
        "id": "ByvniW9i_Gve",
        "outputId": "8d586972-2202-4a04-fbe5-026bf979ced9",
        "colab": {
          "base_uri": "https://localhost:8080/",
          "height": 172
        }
      },
      "execution_count": null,
      "outputs": [
        {
          "output_type": "execute_result",
          "data": {
            "text/plain": [
              "  type_of_comment  votes\n",
              "0        positive  11566\n",
              "1        negative  18822\n",
              "2         neutral  54141"
            ],
            "text/html": [
              "\n",
              "  <div id=\"df-25b0ad73-c1ff-42a1-b544-f99cf5bd2702\">\n",
              "    <div class=\"colab-df-container\">\n",
              "      <div>\n",
              "<style scoped>\n",
              "    .dataframe tbody tr th:only-of-type {\n",
              "        vertical-align: middle;\n",
              "    }\n",
              "\n",
              "    .dataframe tbody tr th {\n",
              "        vertical-align: top;\n",
              "    }\n",
              "\n",
              "    .dataframe thead th {\n",
              "        text-align: right;\n",
              "    }\n",
              "</style>\n",
              "<table border=\"1\" class=\"dataframe\">\n",
              "  <thead>\n",
              "    <tr style=\"text-align: right;\">\n",
              "      <th></th>\n",
              "      <th>type_of_comment</th>\n",
              "      <th>votes</th>\n",
              "    </tr>\n",
              "  </thead>\n",
              "  <tbody>\n",
              "    <tr>\n",
              "      <th>0</th>\n",
              "      <td>positive</td>\n",
              "      <td>11566</td>\n",
              "    </tr>\n",
              "    <tr>\n",
              "      <th>1</th>\n",
              "      <td>negative</td>\n",
              "      <td>18822</td>\n",
              "    </tr>\n",
              "    <tr>\n",
              "      <th>2</th>\n",
              "      <td>neutral</td>\n",
              "      <td>54141</td>\n",
              "    </tr>\n",
              "  </tbody>\n",
              "</table>\n",
              "</div>\n",
              "      <button class=\"colab-df-convert\" onclick=\"convertToInteractive('df-25b0ad73-c1ff-42a1-b544-f99cf5bd2702')\"\n",
              "              title=\"Convert this dataframe to an interactive table.\"\n",
              "              style=\"display:none;\">\n",
              "        \n",
              "  <svg xmlns=\"http://www.w3.org/2000/svg\" height=\"24px\"viewBox=\"0 0 24 24\"\n",
              "       width=\"24px\">\n",
              "    <path d=\"M0 0h24v24H0V0z\" fill=\"none\"/>\n",
              "    <path d=\"M18.56 5.44l.94 2.06.94-2.06 2.06-.94-2.06-.94-.94-2.06-.94 2.06-2.06.94zm-11 1L8.5 8.5l.94-2.06 2.06-.94-2.06-.94L8.5 2.5l-.94 2.06-2.06.94zm10 10l.94 2.06.94-2.06 2.06-.94-2.06-.94-.94-2.06-.94 2.06-2.06.94z\"/><path d=\"M17.41 7.96l-1.37-1.37c-.4-.4-.92-.59-1.43-.59-.52 0-1.04.2-1.43.59L10.3 9.45l-7.72 7.72c-.78.78-.78 2.05 0 2.83L4 21.41c.39.39.9.59 1.41.59.51 0 1.02-.2 1.41-.59l7.78-7.78 2.81-2.81c.8-.78.8-2.07 0-2.86zM5.41 20L4 18.59l7.72-7.72 1.47 1.35L5.41 20z\"/>\n",
              "  </svg>\n",
              "      </button>\n",
              "      \n",
              "  <style>\n",
              "    .colab-df-container {\n",
              "      display:flex;\n",
              "      flex-wrap:wrap;\n",
              "      gap: 12px;\n",
              "    }\n",
              "\n",
              "    .colab-df-convert {\n",
              "      background-color: #E8F0FE;\n",
              "      border: none;\n",
              "      border-radius: 50%;\n",
              "      cursor: pointer;\n",
              "      display: none;\n",
              "      fill: #1967D2;\n",
              "      height: 32px;\n",
              "      padding: 0 0 0 0;\n",
              "      width: 32px;\n",
              "    }\n",
              "\n",
              "    .colab-df-convert:hover {\n",
              "      background-color: #E2EBFA;\n",
              "      box-shadow: 0px 1px 2px rgba(60, 64, 67, 0.3), 0px 1px 3px 1px rgba(60, 64, 67, 0.15);\n",
              "      fill: #174EA6;\n",
              "    }\n",
              "\n",
              "    [theme=dark] .colab-df-convert {\n",
              "      background-color: #3B4455;\n",
              "      fill: #D2E3FC;\n",
              "    }\n",
              "\n",
              "    [theme=dark] .colab-df-convert:hover {\n",
              "      background-color: #434B5C;\n",
              "      box-shadow: 0px 1px 3px 1px rgba(0, 0, 0, 0.15);\n",
              "      filter: drop-shadow(0px 1px 2px rgba(0, 0, 0, 0.3));\n",
              "      fill: #FFFFFF;\n",
              "    }\n",
              "  </style>\n",
              "\n",
              "      <script>\n",
              "        const buttonEl =\n",
              "          document.querySelector('#df-25b0ad73-c1ff-42a1-b544-f99cf5bd2702 button.colab-df-convert');\n",
              "        buttonEl.style.display =\n",
              "          google.colab.kernel.accessAllowed ? 'block' : 'none';\n",
              "\n",
              "        async function convertToInteractive(key) {\n",
              "          const element = document.querySelector('#df-25b0ad73-c1ff-42a1-b544-f99cf5bd2702');\n",
              "          const dataTable =\n",
              "            await google.colab.kernel.invokeFunction('convertToInteractive',\n",
              "                                                     [key], {});\n",
              "          if (!dataTable) return;\n",
              "\n",
              "          const docLinkHtml = 'Like what you see? Visit the ' +\n",
              "            '<a target=\"_blank\" href=https://colab.research.google.com/notebooks/data_table.ipynb>data table notebook</a>'\n",
              "            + ' to learn more about interactive tables.';\n",
              "          element.innerHTML = '';\n",
              "          dataTable['output_type'] = 'display_data';\n",
              "          await google.colab.output.renderOutput(dataTable, element);\n",
              "          const docLink = document.createElement('div');\n",
              "          docLink.innerHTML = docLinkHtml;\n",
              "          element.appendChild(docLink);\n",
              "        }\n",
              "      </script>\n",
              "    </div>\n",
              "  </div>\n",
              "  "
            ]
          },
          "metadata": {},
          "execution_count": 138
        }
      ]
    },
    {
      "cell_type": "markdown",
      "source": [
        "**below we analised by drawing pie chart and bar graph**"
      ],
      "metadata": {
        "id": "Ft4q0bJulaYv"
      }
    },
    {
      "cell_type": "code",
      "source": [
        "data.groupby(['type_of_comment']).sum().plot(kind='pie', y='votes')\n",
        "plt.legend()\n",
        "plt.show()"
      ],
      "metadata": {
        "id": "cFdT7H7EJgVZ",
        "outputId": "b6dec17a-ca83-4d91-ec30-bb8785dfd8c6",
        "colab": {
          "base_uri": "https://localhost:8080/",
          "height": 248
        }
      },
      "execution_count": null,
      "outputs": [
        {
          "output_type": "display_data",
          "data": {
            "text/plain": [
              "<Figure size 432x288 with 1 Axes>"
            ],
            "image/png": "[encoded data removed]"
          },
          "metadata": {}
        }
      ]
    },
    {
      "cell_type": "code",
      "source": [
        "data.groupby(['type_of_comment']).sum().plot(kind='bar', y='votes')\n",
        "plt.legend()\n",
        "plt.show()"
      ],
      "metadata": {
        "id": "AkM7JO-cZUM6",
        "outputId": "2010c9f9-ca99-4e6d-8473-f83b1a089a72",
        "colab": {
          "base_uri": "https://localhost:8080/",
          "height": 314
        }
      },
      "execution_count": null,
      "outputs": [
        {
          "output_type": "display_data",
          "data": {
            "text/plain": [
              "<Figure size 432x288 with 1 Axes>"
            ],
            "image/png": "[encoded data removed]"
          },
          "metadata": {
            "needs_background": "light"
          }
        }
      ]
    },
    {
      "cell_type": "code",
      "source": [
        "data=data.drop(2)"
      ],
      "metadata": {
        "id": "aHqufh87KEpg"
      },
      "execution_count": null,
      "outputs": []
    },
    {
      "cell_type": "markdown",
      "source": [
        "**we have analised for only positive reviews and negative ones**"
      ],
      "metadata": {
        "id": "Lo5EiQkomBgd"
      }
    },
    {
      "cell_type": "code",
      "source": [
        "data.groupby(['type_of_comment']).sum().plot(kind='pie', y='votes')\n",
        "plt.legend()\n",
        "plt.show()"
      ],
      "metadata": {
        "id": "3JtxE1GdQDJ8",
        "outputId": "f010a51d-b2dd-4bdc-d765-03eca9410778",
        "colab": {
          "base_uri": "https://localhost:8080/",
          "height": 248
        }
      },
      "execution_count": null,
      "outputs": [
        {
          "output_type": "display_data",
          "data": {
            "text/plain": [
              "<Figure size 432x288 with 1 Axes>"
            ],
            "image/png": "[encoded data removed]"
          },
          "metadata": {}
        }
      ]
    },
    {
      "cell_type": "code",
      "source": [
        "data.groupby(['type_of_comment']).sum().plot(kind='bar', y='votes')\n",
        "plt.legend()\n",
        "plt.show()"
      ],
      "metadata": {
        "id": "PH3HlKAWYzHA",
        "outputId": "0886c51b-ba95-4edc-cfe1-355f0d63cc9e",
        "colab": {
          "base_uri": "https://localhost:8080/",
          "height": 314
        }
      },
      "execution_count": null,
      "outputs": [
        {
          "output_type": "display_data",
          "data": {
            "text/plain": [
              "<Figure size 432x288 with 1 Axes>"
            ],
            "image/png": "[encoded data removed]"
          },
          "metadata": {
            "needs_background": "light"
          }
        }
      ]
    },
    {
      "cell_type": "code",
      "source": [],
      "metadata": {
        "id": "v27H4Uz4mcZ2"
      },
      "execution_count": null,
      "outputs": []
    }
  ]
}